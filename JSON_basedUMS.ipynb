{
  "nbformat": 4,
  "nbformat_minor": 0,
  "metadata": {
    "colab": {
      "name": "JSON basedUMS.ipynb",
      "provenance": [],
      "authorship_tag": "ABX9TyO20Eogr975GCzy3//NzYLf",
      "include_colab_link": true
    },
    "kernelspec": {
      "name": "python3",
      "display_name": "Python 3"
    },
    "language_info": {
      "name": "python"
    }
  },
  "cells": [
    {
      "cell_type": "markdown",
      "metadata": {
        "id": "view-in-github",
        "colab_type": "text"
      },
      "source": [
        "<a href=\"https://colab.research.google.com/github/prietykumari22/GIT-ECLIPSE--CONFIGURATION/blob/master/JSON_basedUMS.ipynb\" target=\"_parent\"><img src=\"https://colab.research.google.com/assets/colab-badge.svg\" alt=\"Open In Colab\"/></a>"
      ]
    },
    {
      "cell_type": "code",
      "metadata": {
        "id": "4KzHjn08Ut3W"
      },
      "source": [
        " record = {11602259: {\"name\": \"ashish jangra\" , \"pno\": 1234,\"cgpa\": 7.5},\n",
        "           11602259: {\"name\": \"gurpreet singh\", \"pno\": 5678, \"cgpa\": 8.2},\n",
        "           11602260: {\"name\": \"rishu kumar\"   , \"pno\": 8984,\"cgpa\": 7.8}}"
      ],
      "execution_count": 78,
      "outputs": []
    },
    {
      "cell_type": "markdown",
      "metadata": {
        "id": "SBYrLcNaspwM"
      },
      "source": [
        "accessing key values for student id "
      ]
    },
    {
      "cell_type": "code",
      "metadata": {
        "colab": {
          "base_uri": "https://localhost:8080/",
          "height": 35
        },
        "id": "I7J53Fp6AbHB",
        "outputId": "cc5e7fde-3329-4cbc-8c35-2c0cd6898e91"
      },
      "source": [
        "record[11602259][\"name\"]"
      ],
      "execution_count": 79,
      "outputs": [
        {
          "output_type": "execute_result",
          "data": {
            "application/vnd.google.colaboratory.intrinsic+json": {
              "type": "string"
            },
            "text/plain": [
              "'gurpreet singh'"
            ]
          },
          "metadata": {},
          "execution_count": 79
        }
      ]
    },
    {
      "cell_type": "code",
      "metadata": {
        "colab": {
          "base_uri": "https://localhost:8080/"
        },
        "id": "6FlvQw9G_zt8",
        "outputId": "54ea49ce-938f-4d6a-a0f1-ad59778adcd0"
      },
      "source": [
        "reg = 11602260\n",
        "print(record[reg]['name'])\n",
        "print(record[reg]['pno'])\n",
        "print(record[reg]['cgpa'])\n"
      ],
      "execution_count": 81,
      "outputs": [
        {
          "output_type": "stream",
          "name": "stdout",
          "text": [
            "rishu kumar\n",
            "8984\n",
            "7.8\n"
          ]
        }
      ]
    },
    {
      "cell_type": "markdown",
      "metadata": {
        "id": "2jzsCvY4BK-D"
      },
      "source": [
        "changing value foe phone ino we would write"
      ]
    },
    {
      "cell_type": "code",
      "metadata": {
        "id": "e8AMyc4VA5V-"
      },
      "source": [
        "record[11602260]['pno'] = 9999"
      ],
      "execution_count": 82,
      "outputs": []
    },
    {
      "cell_type": "code",
      "metadata": {
        "colab": {
          "base_uri": "https://localhost:8080/"
        },
        "id": "LkSQOwinBX-m",
        "outputId": "855cb7b4-0017-43e7-dfbe-1d30771c65f3"
      },
      "source": [
        "record"
      ],
      "execution_count": 83,
      "outputs": [
        {
          "output_type": "execute_result",
          "data": {
            "text/plain": [
              "{11602259: {'cgpa': 8.2, 'name': 'gurpreet singh', 'pno': 5678},\n",
              " 11602260: {'cgpa': 7.8, 'name': 'rishu kumar', 'pno': 9999}}"
            ]
          },
          "metadata": {},
          "execution_count": 83
        }
      ]
    },
    {
      "cell_type": "markdown",
      "metadata": {
        "id": "Cj6Rz4KsDMek"
      },
      "source": [
        "after substracting we are getting 5 less product"
      ]
    },
    {
      "cell_type": "code",
      "metadata": {
        "id": "OmTmMyClBoqX"
      },
      "source": [
        "record[11602260]['pno'] = record[11602260]['pno']-5"
      ],
      "execution_count": 84,
      "outputs": []
    },
    {
      "cell_type": "code",
      "metadata": {
        "colab": {
          "base_uri": "https://localhost:8080/"
        },
        "id": "uu3IyaY4C8Jw",
        "outputId": "f5949b26-7f8d-4b69-9fc3-2f5a7b40da57"
      },
      "source": [
        "record[11602260]['pno']"
      ],
      "execution_count": 85,
      "outputs": [
        {
          "output_type": "execute_result",
          "data": {
            "text/plain": [
              "9994"
            ]
          },
          "metadata": {},
          "execution_count": 85
        }
      ]
    },
    {
      "cell_type": "code",
      "metadata": {
        "id": "lZAMjxONDhRv"
      },
      "source": [
        "record = {11602259: {\"name\": \"ashish jangra\" , \"pno\": 1234,\"cgpa\": 7.5},\n",
        "           11602259: {\"name\": \"gurpreet singh\", \"pno\": 5678, \"cgpa\": 8.2},\n",
        "           11602260: {\"name\": \"rishu kumar\"   , \"pno\": 8984,\"cgpa\": 7.8}}"
      ],
      "execution_count": 86,
      "outputs": []
    },
    {
      "cell_type": "markdown",
      "metadata": {
        "id": "xExC5JInIyaT"
      },
      "source": [
        "to save this record which is in dictionary format as it is in my system locally"
      ]
    },
    {
      "cell_type": "code",
      "metadata": {
        "id": "a4KjPjXvDnHu"
      },
      "source": [
        "import json"
      ],
      "execution_count": 87,
      "outputs": []
    },
    {
      "cell_type": "markdown",
      "metadata": {
        "id": "A46acR-LDuwR"
      },
      "source": [
        "change into string using dumps function"
      ]
    },
    {
      "cell_type": "code",
      "metadata": {
        "id": "iffkyC_wDpjX"
      },
      "source": [
        "js = json.dumps(record)"
      ],
      "execution_count": 88,
      "outputs": []
    },
    {
      "cell_type": "code",
      "metadata": {
        "colab": {
          "base_uri": "https://localhost:8080/",
          "height": 35
        },
        "id": "obQPgcFTD65i",
        "outputId": "6dfbd897-1d20-47f2-a180-278702c6d91d"
      },
      "source": [
        "js"
      ],
      "execution_count": 89,
      "outputs": [
        {
          "output_type": "execute_result",
          "data": {
            "application/vnd.google.colaboratory.intrinsic+json": {
              "type": "string"
            },
            "text/plain": [
              "'{\"11602259\": {\"name\": \"gurpreet singh\", \"pno\": 5678, \"cgpa\": 8.2}, \"11602260\": {\"name\": \"rishu kumar\", \"pno\": 8984, \"cgpa\": 7.8}}'"
            ]
          },
          "metadata": {},
          "execution_count": 89
        }
      ]
    },
    {
      "cell_type": "code",
      "metadata": {
        "colab": {
          "base_uri": "https://localhost:8080/"
        },
        "id": "W6lNwh55D8Mw",
        "outputId": "41da50e2-0a34-4ba3-90b8-8cbec4a5e85b"
      },
      "source": [
        "\n",
        "type(js)"
      ],
      "execution_count": 90,
      "outputs": [
        {
          "output_type": "execute_result",
          "data": {
            "text/plain": [
              "str"
            ]
          },
          "metadata": {},
          "execution_count": 90
        }
      ]
    },
    {
      "cell_type": "code",
      "metadata": {
        "colab": {
          "base_uri": "https://localhost:8080/"
        },
        "id": "4WYz8GYtD_mQ",
        "outputId": "1814f88f-bcef-4cd3-d302-413433762b2c"
      },
      "source": [
        "record"
      ],
      "execution_count": 91,
      "outputs": [
        {
          "output_type": "execute_result",
          "data": {
            "text/plain": [
              "{11602259: {'cgpa': 8.2, 'name': 'gurpreet singh', 'pno': 5678},\n",
              " 11602260: {'cgpa': 7.8, 'name': 'rishu kumar', 'pno': 8984}}"
            ]
          },
          "metadata": {},
          "execution_count": 91
        }
      ]
    },
    {
      "cell_type": "code",
      "metadata": {
        "colab": {
          "base_uri": "https://localhost:8080/"
        },
        "id": "DrYk5MxdEA8m",
        "outputId": "b5b93bd3-5340-47de-b923-69cd28c569e4"
      },
      "source": [
        "type(record)"
      ],
      "execution_count": 92,
      "outputs": [
        {
          "output_type": "execute_result",
          "data": {
            "text/plain": [
              "dict"
            ]
          },
          "metadata": {},
          "execution_count": 92
        }
      ]
    },
    {
      "cell_type": "markdown",
      "metadata": {
        "id": "3_oEad_WEfqO"
      },
      "source": [
        "to save the record data into local system we will use json format and convert dic into string so tht data can we easily saved, something like text and these text that is something we are going to save in text file"
      ]
    },
    {
      "cell_type": "code",
      "metadata": {
        "id": "w_4XFsRFIYfT"
      },
      "source": [
        "fd = open(\"record.json\",'w')\n",
        "\n",
        "fd.write(js)\n",
        "\n",
        "fd.close()\n"
      ],
      "execution_count": 93,
      "outputs": []
    },
    {
      "cell_type": "code",
      "metadata": {
        "id": "hyyQV0hMg5Cl"
      },
      "source": [
        "fd = open(\"record.json\",'r')\n",
        "txt=fd.read()\n",
        "\n",
        "fd.close()"
      ],
      "execution_count": 94,
      "outputs": []
    },
    {
      "cell_type": "code",
      "metadata": {
        "id": "UpJaX5Z_hjax",
        "outputId": "f214c51a-29aa-4f05-a2d8-6702005585d5",
        "colab": {
          "base_uri": "https://localhost:8080/",
          "height": 35
        }
      },
      "source": [
        "txt"
      ],
      "execution_count": 95,
      "outputs": [
        {
          "output_type": "execute_result",
          "data": {
            "application/vnd.google.colaboratory.intrinsic+json": {
              "type": "string"
            },
            "text/plain": [
              "'{\"11602259\": {\"name\": \"gurpreet singh\", \"pno\": 5678, \"cgpa\": 8.2}, \"11602260\": {\"name\": \"rishu kumar\", \"pno\": 8984, \"cgpa\": 7.8}}'"
            ]
          },
          "metadata": {},
          "execution_count": 95
        }
      ]
    },
    {
      "cell_type": "code",
      "metadata": {
        "id": "4mqVgqDTjFw6"
      },
      "source": [
        "record =json.loads(txt)"
      ],
      "execution_count": 96,
      "outputs": []
    },
    {
      "cell_type": "code",
      "metadata": {
        "id": "MK9Z3iaFjLtl",
        "outputId": "9431dcac-e0f4-4a41-dc66-24c2a7793468",
        "colab": {
          "base_uri": "https://localhost:8080/"
        }
      },
      "source": [
        "record"
      ],
      "execution_count": 97,
      "outputs": [
        {
          "output_type": "execute_result",
          "data": {
            "text/plain": [
              "{'11602259': {'cgpa': 8.2, 'name': 'gurpreet singh', 'pno': 5678},\n",
              " '11602260': {'cgpa': 7.8, 'name': 'rishu kumar', 'pno': 8984}}"
            ]
          },
          "metadata": {},
          "execution_count": 97
        }
      ]
    },
    {
      "cell_type": "code",
      "metadata": {
        "id": "_izBOfOljMjY",
        "outputId": "7969a472-b1a0-46f6-a5d0-e03805116f16",
        "colab": {
          "base_uri": "https://localhost:8080/"
        }
      },
      "source": [
        "record['11602259']"
      ],
      "execution_count": 98,
      "outputs": [
        {
          "output_type": "execute_result",
          "data": {
            "text/plain": [
              "{'cgpa': 8.2, 'name': 'gurpreet singh', 'pno': 5678}"
            ]
          },
          "metadata": {},
          "execution_count": 98
        }
      ]
    },
    {
      "cell_type": "code",
      "metadata": {
        "id": "i6LXilkAj4oP"
      },
      "source": [
        "import time"
      ],
      "execution_count": 99,
      "outputs": []
    },
    {
      "cell_type": "code",
      "metadata": {
        "id": "ccvxxx-Ej9LA",
        "outputId": "c736a993-ba64-43ba-ddff-beee2ae4c272",
        "colab": {
          "base_uri": "https://localhost:8080/",
          "height": 35
        }
      },
      "source": [
        "time.ctime()"
      ],
      "execution_count": 100,
      "outputs": [
        {
          "output_type": "execute_result",
          "data": {
            "application/vnd.google.colaboratory.intrinsic+json": {
              "type": "string"
            },
            "text/plain": [
              "'Fri Sep 17 16:59:38 2021'"
            ]
          },
          "metadata": {},
          "execution_count": 100
        }
      ]
    },
    {
      "cell_type": "code",
      "metadata": {
        "id": "al1FOHm_kMDy",
        "outputId": "2bd88f59-6724-4418-d38f-512a30cd7853",
        "colab": {
          "base_uri": "https://localhost:8080/"
        }
      },
      "source": [
        "record.values()"
      ],
      "execution_count": 101,
      "outputs": [
        {
          "output_type": "execute_result",
          "data": {
            "text/plain": [
              "dict_values([{'name': 'gurpreet singh', 'pno': 5678, 'cgpa': 8.2}, {'name': 'rishu kumar', 'pno': 8984, 'cgpa': 7.8}])"
            ]
          },
          "metadata": {},
          "execution_count": 101
        }
      ]
    },
    {
      "cell_type": "code",
      "metadata": {
        "id": "t-a0U4iJkRwi"
      },
      "source": [
        ""
      ],
      "execution_count": 101,
      "outputs": []
    }
  ]
}